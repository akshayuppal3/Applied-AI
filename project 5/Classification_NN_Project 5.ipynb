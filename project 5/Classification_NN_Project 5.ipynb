{
 "cells": [
  {
   "cell_type": "code",
   "execution_count": 1,
   "metadata": {
    "_cell_guid": "4d7d47d7-c1e2-48d0-87f3-9691e1899a0b",
    "_uuid": "c58162bd53039cc2bcfe73f063e627b14b46ae09"
   },
   "outputs": [
    {
     "name": "stdout",
     "output_type": "stream",
     "text": [
      "leaderboard.csv\n",
      "sampleSubmission.csv\n",
      "test.csv\n",
      "train.csv\n",
      "\n"
     ]
    },
    {
     "name": "stderr",
     "output_type": "stream",
     "text": [
      "Using TensorFlow backend.\n",
      "/opt/conda/lib/python3.6/importlib/_bootstrap.py:219: RuntimeWarning: compiletime version 3.5 of module 'tensorflow.python.framework.fast_tensor_util' does not match runtime version 3.6\n",
      "  return f(*args, **kwds)\n"
     ]
    }
   ],
   "source": [
    "# This Python 3 environment comes with many helpful analytics libraries installed\n",
    "# It is defined by the kaggle/python docker image: https://github.com/kaggle/docker-python\n",
    "# For example, here's several helpful packages to load in \n",
    "\n",
    "import numpy as np # linear algebra\n",
    "import pandas as pd # data processing, CSV file I/O (e.g. pd.read_csv)\n",
    "\n",
    "# Input data files are available in the \"../input/\" directory.\n",
    "# For example, running this (by clicking run or pressing Shift+Enter) will list the files in the input directory\n",
    "\n",
    "from subprocess import check_output\n",
    "print(check_output([\"ls\", \"../input\"]).decode(\"utf8\"))\n",
    "\n",
    "#from sklearn.ensemble import RandomForestClassifier\n",
    "\n",
    "#keras\n",
    "from keras.models import Sequential\n",
    "from keras.layers import Dense\n",
    "from keras.wrappers.scikit_learn import KerasClassifier\n",
    "from keras.utils import np_utils\n",
    "\n",
    "# Any results you write to the current directory are saved as output."
   ]
  },
  {
   "cell_type": "code",
   "execution_count": 2,
   "metadata": {
    "_cell_guid": "4001e9ad-28e4-4948-8c9a-c284b84510f2",
    "_uuid": "8fd87fc719f46c8025671e62e6f90ea1306d9908",
    "collapsed": true
   },
   "outputs": [],
   "source": [
    "# define baseline model\n",
    "def baseline_model():\n",
    "\t# create model\n",
    "    model = Sequential()\n",
    "    model.add(Dense(8, input_dim=93, activation='relu'))\n",
    "    model.add(Dense(9, activation='softmax'))\n",
    "\t# Compile model\n",
    "    model.compile(loss='categorical_crossentropy', optimizer='adam', metrics=['accuracy'])\n",
    "    return model"
   ]
  },
  {
   "cell_type": "code",
   "execution_count": 3,
   "metadata": {
    "_cell_guid": "1057ccf2-dd11-45f0-bf50-317eb087c5c3",
    "_uuid": "f748b05206d96304b39a05eace4ea39fb64964b5"
   },
   "outputs": [
    {
     "name": "stderr",
     "output_type": "stream",
     "text": [
      "/opt/conda/lib/python3.6/site-packages/sklearn/cross_validation.py:41: DeprecationWarning: This module was deprecated in version 0.18 in favor of the model_selection module into which all the refactored classes and functions are moved. Also note that the interface of the new CV iterators are different from that of this module. This module will be removed in 0.20.\n",
      "  \"This module will be removed in 0.20.\", DeprecationWarning)\n"
     ]
    }
   ],
   "source": [
    "dataset = pd.read_csv('../input/train.csv')\n",
    "X = dataset.iloc[: ,1 :-1].values\n",
    "Y = dataset.iloc[:, -1].values\n",
    "\n",
    "from sklearn.preprocessing import Imputer\n",
    "imputer = Imputer(missing_values = \"NaN\" , strategy = \"mean\", axis =0)\n",
    "imputer = imputer.fit(X[:,:])\n",
    "X[:,:] = imputer.transform(X[:,:])\n",
    "\n",
    "from sklearn.preprocessing import LabelEncoder\n",
    "label_encoder_Y = LabelEncoder()\n",
    "Y = label_encoder_Y.fit_transform(Y)\n",
    "\n",
    "from sklearn.cross_validation import train_test_split\n",
    "X_trn, X_test, Y_trn , Y_test = train_test_split(X,Y, test_size= 0.2, random_state= 0)\n",
    "\n",
    "#keras\n",
    "knn = KerasClassifier(build_fn=baseline_model, epochs=200, batch_size=5, verbose=0)\n",
    "knn.fit(X_trn, Y_trn)\n",
    "\n",
    "# Random forest\n",
    "#knn = RandomForestClassifier(n_jobs=10, random_state=36)\n",
    "#knn.fit(X_trn, Y_trn)\n",
    "#from sklearn.neighbors import KNeighborsClassifier\n",
    "#knn = KNeighborsClassifier(n_neighbors = 10, metric= 'minkowski', p=2)\n",
    "#knn.fit(X_trn, Y_trn)\n",
    "\n",
    "Y_pred = knn.predict(X_test)"
   ]
  },
  {
   "cell_type": "code",
   "execution_count": 4,
   "metadata": {
    "_cell_guid": "b6cbfe46-c1da-4a73-8226-f444d9c667b3",
    "_uuid": "f1c7a948ad0e4de0c8375c3a434cafe11e2b94b3",
    "collapsed": true
   },
   "outputs": [
    {
     "name": "stdout",
     "output_type": "stream",
     "text": [
      "[2 5 5 ..., 5 5 1]\n"
     ]
    }
   ],
   "source": [
    "print(Y_pred)"
   ]
  },
  {
   "cell_type": "code",
   "execution_count": 5,
   "metadata": {
    "_cell_guid": "bfa3c3be-0888-4b50-b260-0096bba595b8",
    "_uuid": "c10d58d62ef5eef49b58117f1b96e8a4453a793d",
    "collapsed": true
   },
   "outputs": [],
   "source": [
    "dataset_test = pd.read_csv('../input/test.csv')\n",
    "X_test_out = dataset_test.iloc[:, 1:].values\n",
    "#print(X_test_out)\n",
    "Y_pred_out = knn.predict_proba(X_test_out)\n",
    "#Y_pred_out = knn.predict(X_test_out)"
   ]
  },
  {
   "cell_type": "code",
   "execution_count": 6,
   "metadata": {
    "_cell_guid": "c4f575d8-b706-49ff-977a-147d93ddbb86",
    "_uuid": "736ed937e835da5491e08a05b92c9aabad17cf3d",
    "collapsed": true
   },
   "outputs": [],
   "source": [
    "#Y_pred_out = Y_pred_out.transpose()"
   ]
  },
  {
   "cell_type": "code",
   "execution_count": 7,
   "metadata": {
    "_cell_guid": "7291fca1-9428-45d0-8709-af273bfd378c",
    "_uuid": "18057a15efba7bcb8456f53382fffc5c9a6afcff",
    "collapsed": true
   },
   "outputs": [],
   "source": [
    "submission = pd.DataFrame({ \"id\": dataset_test[\"id\"]})\n",
    "\n",
    "i = 0\n",
    "\n",
    "# Create column name based on target values(see sample_submission.csv)\n",
    "range_of_classes = range(1, 10)\n",
    "for num in range_of_classes:\n",
    "    col_name = str(\"Class_{}\".format(num))\n",
    "    submission[col_name] = Y_pred_out[:,i]\n",
    "    i = i + 1\n",
    "submission.to_csv('otto.csv', index=False)    "
   ]
  },
  {
   "cell_type": "code",
   "execution_count": 8,
   "metadata": {
    "_cell_guid": "6e407de4-9b35-4f92-972b-b4b8bd539581",
    "_uuid": "0f7a8a178f1633240913f8b50e4e7f4c2528131a",
    "collapsed": true
   },
   "outputs": [
    {
     "ename": "SyntaxError",
     "evalue": "EOL while scanning string literal (<ipython-input-8-97170fb7cc4d>, line 15)",
     "output_type": "error",
     "traceback": [
      "\u001b[0;36m  File \u001b[0;32m\"<ipython-input-8-97170fb7cc4d>\"\u001b[0;36m, line \u001b[0;32m15\u001b[0m\n\u001b[0;31m    #a[ : , i] = i + 1\"\"\"\"\u001b[0m\n\u001b[0m                          \n^\u001b[0m\n\u001b[0;31mSyntaxError\u001b[0m\u001b[0;31m:\u001b[0m EOL while scanning string literal\n"
     ]
    }
   ],
   "source": [
    "\"\"\"\"l = np.array(Y_pred_out)\n",
    "print(l)\n",
    "#b = np.zeros((144368,9))\n",
    "#a = pd.DataFrame(b, columns= ['Class_1', 'Class_2' ,'Class_3', 'Class_4', 'Class_5','Class_6','Class_7','Class_8','Class_9'])\n",
    "#a = a.astype(int)\n",
    "#a.insert(0, 'ID',range(1,1+len(a)))\n",
    "#a.head()\n",
    "#\n",
    "#index=0;\n",
    "#for i in np.nditer(l):\n",
    "    #print(i)\n",
    " #   a[str('Class_{}'.format(i+1))][index] = 1\n",
    "    #print('row=',index, \"  col=\",str('Class_{}'.format(i+1)))\n",
    "  #  index = index+1;\n",
    "    #a[ : , i] = i + 1\"\"\"\"\n",
    "\n"
   ]
  },
  {
   "cell_type": "code",
   "execution_count": 9,
   "metadata": {
    "_cell_guid": "7a84ba89-ba33-4902-af25-7a0f5ac77d4c",
    "_uuid": "6eab727824c70935be5a7500a4109d9dd87e3091",
    "collapsed": true
   },
   "outputs": [],
   "source": [
    "#a.head()"
   ]
  },
  {
   "cell_type": "code",
   "execution_count": 10,
   "metadata": {
    "_cell_guid": "7a1a836d-2274-4eb6-a368-208612f687d0",
    "_uuid": "8b61cf46cae779e56d365514322ab59742eb65ae",
    "collapsed": true
   },
   "outputs": [],
   "source": [
    "#submission = pd.read_csv('../input/sampleSubmission.csv')\n",
    "#submisssion = a\n",
    "#submission.head()"
   ]
  },
  {
   "cell_type": "code",
   "execution_count": 11,
   "metadata": {
    "_cell_guid": "53360920-d5d2-4b46-8620-3d117d118f23",
    "_uuid": "0dacf4b6559849f635e7ca1e9105b6400aca53bd",
    "collapsed": true
   },
   "outputs": [],
   "source": [
    "#submission.to_csv('otto1.csv', index=False)"
   ]
  },
  {
   "cell_type": "markdown",
   "metadata": {
    "_cell_guid": "bcde977a-03c1-4175-84ba-2f7e67074b1f",
    "_uuid": "b84a8ca21001138243926366078e6d143e485401"
   },
   "source": [
    "# Finish"
   ]
  },
  {
   "cell_type": "code",
   "execution_count": 12,
   "metadata": {
    "_cell_guid": "8011ff97-3122-4222-b9f8-d121e0de2e7b",
    "_uuid": "603272a623f615108c917f2d00351a074734ae5b",
    "collapsed": true
   },
   "outputs": [],
   "source": [
    "#a = np.arange(Y_pred_out).reshape(9, 144368)"
   ]
  },
  {
   "cell_type": "code",
   "execution_count": 13,
   "metadata": {
    "_cell_guid": "c2644669-8ce4-47d1-8268-89337dda6275",
    "_uuid": "e3a0852546d18a5c8987364d2c8d010aff6db7b1",
    "collapsed": true
   },
   "outputs": [],
   "source": [
    "#Y_pred_out = pd.DataFrame(Y_pred_out, index=sample.id.values, columns=sample.columns[1:])"
   ]
  },
  {
   "cell_type": "code",
   "execution_count": 14,
   "metadata": {
    "_cell_guid": "0d4e8c05-b25e-4318-870b-f7a819a559d8",
    "_uuid": "4e249d80421e41e6dc5a8368d0c8ebb7d35ef7ba",
    "collapsed": true
   },
   "outputs": [],
   "source": [
    "#sample= pd.read_csv('../input/sampleSubmission.csv')"
   ]
  },
  {
   "cell_type": "code",
   "execution_count": 15,
   "metadata": {
    "_cell_guid": "86ad5225-dbfd-431c-af6a-6b80c66053a4",
    "_uuid": "3d8c355b17c89aa713f5f154083ad4f84c6541c3",
    "collapsed": true
   },
   "outputs": [],
   "source": [
    "#dataset_submission.head()"
   ]
  },
  {
   "cell_type": "code",
   "execution_count": 16,
   "metadata": {
    "_cell_guid": "b62fd77a-4708-4e16-b271-5a9028a5b65c",
    "_uuid": "3eeba09b18f9dcdaaedb35651c526599615e789f",
    "collapsed": true
   },
   "outputs": [],
   "source": [
    "#dataset.target.unique()"
   ]
  },
  {
   "cell_type": "markdown",
   "metadata": {
    "_cell_guid": "48c61a33-87bf-402d-b798-6b542c92e379",
    "_uuid": "592a78a80572666a0d7eb7353c908b4c94921651"
   },
   "source": [
    "Creating input vector"
   ]
  },
  {
   "cell_type": "markdown",
   "metadata": {
    "_cell_guid": "0c0589de-4bcf-44c1-b3bb-ebd74db6ac58",
    "_uuid": "2cb4df0b4f6976ddaac6a087e5ddbbea87f6c619"
   },
   "source": [
    "Creating target vector"
   ]
  },
  {
   "cell_type": "markdown",
   "metadata": {
    "_cell_guid": "455d71eb-564b-4699-ba7c-94ea932b8ef5",
    "_uuid": "4b9f92e20df52f468c236533072d8ae90246de1d"
   },
   "source": [
    "Train test split"
   ]
  },
  {
   "cell_type": "markdown",
   "metadata": {
    "_cell_guid": "d4e06cb9-ae2b-497c-ade5-2d49cdb08711",
    "_uuid": "00af596c6d68ab3ba4b04581f1cbacebea594161",
    "collapsed": true
   },
   "source": [
    "#Predicting the values"
   ]
  },
  {
   "cell_type": "markdown",
   "metadata": {
    "_cell_guid": "0e189836-a741-44ee-8153-297a82e0115b",
    "_uuid": "97a9ecbe2a223da90f9064bfcaca16e792c3fec9"
   },
   "source": [
    "#Making the confucian matrix"
   ]
  },
  {
   "cell_type": "code",
   "execution_count": 17,
   "metadata": {
    "_cell_guid": "f84984c0-d782-4051-82a9-9f8cc15f8284",
    "_uuid": "c82c9dcbe5ecc9fb2c4bca9a193c86d00c5fab28",
    "collapsed": true
   },
   "outputs": [],
   "source": [
    "#from sklearn.metrics import confusion_matrix\n",
    "#cm = confusion_matrix(Y_pred, Y_test)"
   ]
  },
  {
   "cell_type": "code",
   "execution_count": 18,
   "metadata": {
    "_cell_guid": "a700c2aa-8e36-4832-beba-52389f6ebd75",
    "_uuid": "c51e6aa0f52db9a0ef6112d4a4828751fab745a5",
    "collapsed": true
   },
   "outputs": [
    {
     "ename": "IndentationError",
     "evalue": "unexpected indent (<ipython-input-18-71068e6d8d99>, line 5)",
     "output_type": "error",
     "traceback": [
      "\u001b[0;36m  File \u001b[0;32m\"<ipython-input-18-71068e6d8d99>\"\u001b[0;36m, line \u001b[0;32m5\u001b[0m\n\u001b[0;31m    np.arange(start = X_set[:, 1].min() - 1, stop = X_set[:, 1].max() + 1, step = 0.01))\u001b[0m\n\u001b[0m    ^\u001b[0m\n\u001b[0;31mIndentationError\u001b[0m\u001b[0;31m:\u001b[0m unexpected indent\n"
     ]
    }
   ],
   "source": [
    "# Visualising the Training set results\n",
    "#from matplotlib.colors import ListedColormap\n",
    "#X_set, Y_set = X_trn, Y_trn\n",
    "#X1, X2 = np.meshgrid(np.arange(start = X_set[:, 0].min() - 1, stop = X_set[:, 0].max() + 1, step = 0.01),\n",
    "                     np.arange(start = X_set[:, 1].min() - 1, stop = X_set[:, 1].max() + 1, step = 0.01))\n",
    "#plt.contourf(X1, X2, classifier.predict(np.array([X1.ravel(), X2.ravel()]).T).reshape(X1.shape),\n",
    " #            alpha = 0.75, cmap = ListedColormap(('red', 'green')))\n",
    "#plt.xlim(X1.min(), X1.max())\n",
    "#plt.ylim(X2.min(), X2.max())\n",
    "#for i, j in enumerate(np.unique(y_set)):\n",
    "#    plt.scatter(X_set[y_set == j, 0], X_set[y_set == j, 1],\n",
    "#                c = ListedColormap(('red', 'green'))(i), label = j)\n",
    "#plt.title('K-NN (Training set)')\n",
    "#plt.xlabel('prediction')\n",
    "#plt.ylabel('class')\n",
    "#plt.legend()\n",
    "#plt.show()"
   ]
  },
  {
   "cell_type": "code",
   "execution_count": 19,
   "metadata": {
    "_cell_guid": "b96823f1-7d71-481d-b60c-d501ef513aac",
    "_uuid": "83aee12c39409b89f19849324432e2bcb3e77a71",
    "collapsed": true
   },
   "outputs": [
    {
     "ename": "SyntaxError",
     "evalue": "EOL while scanning string literal (<ipython-input-19-e643c788e526>, line 17)",
     "output_type": "error",
     "traceback": [
      "\u001b[0;36m  File \u001b[0;32m\"<ipython-input-19-e643c788e526>\"\u001b[0;36m, line \u001b[0;32m17\u001b[0m\n\u001b[0;31m    plt.show() \"\"\"\"\u001b[0m\n\u001b[0m                   \n^\u001b[0m\n\u001b[0;31mSyntaxError\u001b[0m\u001b[0;31m:\u001b[0m EOL while scanning string literal\n"
     ]
    }
   ],
   "source": [
    "\"\"\"\"# Visualising the Test set results\n",
    "from matplotlib.colors import ListedColormap\n",
    "X_set, Y_set = X_test, Y_test\n",
    "X1, X2 = np.meshgrid(np.arange(start = X_set[:, 0].min() - 1, stop = X_set[:, 0].max() + 1, step = 0.01),\n",
    "                     np.arange(start = X_set[:, 1].min() - 1, stop = X_set[:, 1].max() + 1, step = 0.01))\n",
    "plt.contourf(X1, X2, classifier.predict(np.array([X1.ravel(), X2.ravel()]).T).reshape(X1.shape),\n",
    "             alpha = 0.75, cmap = ListedColormap(('red', 'green')))\n",
    "plt.xlim(X1.min(), X1.max())\n",
    "plt.ylim(X2.min(), X2.max())\n",
    "for i, j in enumerate(np.unique(y_set)):\n",
    "    plt.scatter(X_set[y_set == j, 0], X_set[y_set == j, 1],\n",
    "                c = ListedColormap(('red', 'green'))(i), label = j)\n",
    "plt.title('K-NN (Test set)')\n",
    "plt.xlabel('prediction')\n",
    "plt.ylabel('class')\n",
    "plt.legend()\n",
    "plt.show() \"\"\"\""
   ]
  },
  {
   "cell_type": "code",
   "execution_count": 20,
   "metadata": {
    "_cell_guid": "d77c0f95-b8ef-48c4-b1de-db6e8a008f65",
    "_uuid": "e55cac749b8340c7e869cf150ba3d65a6081887a",
    "collapsed": true
   },
   "outputs": [],
   "source": []
  },
  {
   "cell_type": "code",
   "execution_count": 20,
   "metadata": {
    "_cell_guid": "fb7494bc-5f2c-498e-a917-4d376a9ca6a6",
    "_uuid": "7cf801756692120578d52fe6bf91594de6d64f06",
    "collapsed": true
   },
   "outputs": [
    {
     "name": "stdout",
     "output_type": "stream",
     "text": [
      "[[0 0 0 ..., 0 0 0]\n",
      " [0 1 1 ..., 0 0 0]\n",
      " [0 2 9 ..., 0 0 0]\n",
      " ..., \n",
      " [5 1 1 ..., 1 0 0]\n",
      " [0 0 4 ..., 0 2 0]\n",
      " [0 0 0 ..., 0 0 0]]\n"
     ]
    }
   ],
   "source": [
    "print(X_test)"
   ]
  },
  {
   "cell_type": "code",
   "execution_count": 21,
   "metadata": {
    "_cell_guid": "2a3d34b9-f347-4711-9095-770240b7c661",
    "_uuid": "96d3ebe1048faa9fcf1f5b9f1b812e7e926e3f2c",
    "collapsed": true
   },
   "outputs": [
    {
     "name": "stdout",
     "output_type": "stream",
     "text": [
      "[[ 0  0  0 ...,  0  0  0]\n",
      " [ 2  2 14 ...,  0  2  0]\n",
      " [ 0  1 12 ...,  0  0  1]\n",
      " ..., \n",
      " [ 0  1  0 ...,  1  0  0]\n",
      " [ 0  0  0 ...,  0  1  0]\n",
      " [ 0  0  0 ...,  0  0  0]]\n"
     ]
    }
   ],
   "source": [
    "print(X_test_out)"
   ]
  },
  {
   "cell_type": "code",
   "execution_count": 22,
   "metadata": {
    "_cell_guid": "166728da-584a-465c-9ae6-621df221f161",
    "_uuid": "3ea15bb47b2633ac0dfb6968970723401206e3c7",
    "collapsed": true
   },
   "outputs": [],
   "source": []
  }
 ],
 "metadata": {
  "kernelspec": {
   "display_name": "Python 3",
   "language": "python",
   "name": "python3"
  },
  "language_info": {
   "codemirror_mode": {
    "name": "ipython",
    "version": 3
   },
   "file_extension": ".py",
   "mimetype": "text/x-python",
   "name": "python",
   "nbconvert_exporter": "python",
   "pygments_lexer": "ipython3",
   "version": "3.6.3"
  }
 },
 "nbformat": 4,
 "nbformat_minor": 1
}
